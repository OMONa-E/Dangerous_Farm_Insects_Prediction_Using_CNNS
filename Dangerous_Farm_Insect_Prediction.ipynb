{
  "nbformat": 4,
  "nbformat_minor": 0,
  "metadata": {
    "colab": {
      "provenance": [],
      "mount_file_id": "https://github.com/OMONa-E/Dangerous_Farm_Insects_Prediction_Using_CNNS/blob/main/Dangerous_Farm_Insect_Prediction.ipynb",
      "authorship_tag": "ABX9TyN0L2qG/6sinJvkLQwnWyGS",
      "include_colab_link": true
    },
    "kernelspec": {
      "name": "python3",
      "display_name": "Python 3"
    },
    "language_info": {
      "name": "python"
    }
  },
  "cells": [
    {
      "cell_type": "markdown",
      "metadata": {
        "id": "view-in-github",
        "colab_type": "text"
      },
      "source": [
        "<a href=\"https://colab.research.google.com/github/OMONa-E/Dangerous_Farm_Insects_Prediction_Using_CNNS/blob/main/Dangerous_Farm_Insect_Prediction.ipynb\" target=\"_parent\"><img src=\"https://colab.research.google.com/assets/colab-badge.svg\" alt=\"Open In Colab\"/></a>"
      ]
    },
    {
      "cell_type": "markdown",
      "source": [
        "> Author: OMONA Emmanuel\n",
        "\n",
        "\n",
        "\n",
        "```\n",
        "# Predicting Dangerous Farm Insects using Convolution Nueral Networks\n",
        "```\n",
        "\n"
      ],
      "metadata": {
        "id": "yeITDhBX7pkX"
      }
    },
    {
      "cell_type": "markdown",
      "source": [
        "**About Dataset**\n",
        "\n",
        "**Description:**\n",
        "\n",
        "The Dangerous Farm Insects Image Dataset is a curated collection of images featuring 15 different types of insects commonly found in agricultural settings. This dataset provides valuable visual resources for studying, identifying, and understanding the characteristics of these potentially harmful insects. Each insect is represented by multiple high-quality images, showcasing their distinct features, colors, and patterns.\n",
        "\n",
        "Usefulness and Potential Applications:\n",
        "\n",
        "1. ***Pest Identification and Management:***\n",
        "\n",
        "  This dataset serves as a valuable resource for farmers, entomologists, and agricultural researchers involved in pest management. The images enable accurate identification of dangerous farm insects, allowing for timely and targeted pest control strategies.\n",
        "\n",
        "2. ***Crop Protection and Yield Enhancement:***\n",
        "\n",
        "  By recognizing and understanding the appearance of these harmful insects, farmers can implement preventive measures to protect their crops from infestations. The dataset aids in developing efficient pest control strategies, reducing the risk of crop damage and improving overall yield.\n",
        "\n",
        "3. ***Education and Awareness:***\n",
        "  \n",
        "  The dataset can be utilized in educational settings to teach students about the importance of insect identification, the impact of harmful insects on agriculture, and the significance of integrated pest management practices. It promotes awareness among farmers, students, and the general public regarding the threats posed by these insects and the importance of sustainable farming practices.\n",
        "\n",
        "4. ***Machine Learning and Computer Vision:***\n",
        "  \n",
        "  The dataset can be utilized for training and evaluating computer vision models and machine learning algorithms. Researchers and data scientists can leverage this dataset to develop automated systems for insect recognition, classification, and early detection of infestations.\n",
        "\n",
        "5. ***Research and Analysis:***\n",
        "  \n",
        "  The dataset provides a valuable resource for conducting research and analysis on the behaviour, distribution, and ecological impact of dangerous farm insects. It facilitates studies on the effectiveness of various control methods and the development of innovative solutions for sustainable agriculture.\n",
        "\n",
        "With its diverse collection of high-quality images and its potential applications in pest management, crop protection, education, and research, the Dangerous Farm Insects Image Dataset is a valuable asset for anyone involved in the agricultural industry, entomology research, or computer vision applications in the field of farming.\n",
        "\n",
        "**Keywords:**\n",
        "\n",
        "farm insects, dangerous insects, pest management, crop protection, agriculture, entomology, integrated pest management, computer vision, machine learning, dataset.\n",
        "\n",
        "***Dataset Source:*** [Kaggle](https://www.kaggle.com/datasets/tarundalal/dangerous-insects-dataset/data)"
      ],
      "metadata": {
        "id": "jACAXnWM8YYv"
      }
    },
    {
      "cell_type": "code",
      "source": [
        "# imports\n",
        "import numpy as np\n",
        "import tensorflow as tf\n",
        "# Set the seed for NumPy\n",
        "np.random.seed(42)\n",
        "# Set the seed for TensorFlow\n",
        "tf.random.set_seed(42)\n",
        "copy\n",
        "import os, glob\n",
        "import matplotlib.pyplot as plt\n",
        "import numpy as np\n",
        "import PIL\n",
        "import tensorflow as tf\n",
        "from tensorflow.keras.utils import load_img, img_to_array, array_to_img, save_img\n",
        "from tensorflow.keras import layers, models\n",
        "from tensorflow.keras.utils import to_categorical"
      ],
      "metadata": {
        "id": "jYYxK9otQvqB"
      },
      "execution_count": null,
      "outputs": []
    },
    {
      "cell_type": "code",
      "execution_count": 1,
      "metadata": {
        "id": "JI_BVxNN7jNb",
        "outputId": "d0ea548b-7eb8-4779-f241-e32855dccfbe",
        "colab": {
          "base_uri": "https://localhost:8080/",
          "height": 35
        }
      },
      "outputs": [
        {
          "output_type": "execute_result",
          "data": {
            "text/plain": [
              "'/content/drive/MyDrive/CodingDojo/05-IntermediateML/Week20/Data/covid'"
            ],
            "application/vnd.google.colaboratory.intrinsic+json": {
              "type": "string"
            }
          },
          "metadata": {},
          "execution_count": 1
        }
      ],
      "source": [
        "# save our directory path in a variable\n",
        "data_dir = '/content/drive/MyDrive/CodingDojo/05-IntermediateML/Week20/Data/covid'\n",
        "data_dir"
      ]
    },
    {
      "cell_type": "code",
      "source": [],
      "metadata": {
        "id": "PkkDPHUiRIlh"
      },
      "execution_count": null,
      "outputs": []
    }
  ]
}